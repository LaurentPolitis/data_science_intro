{
 "cells": [
  {
   "cell_type": "markdown",
   "metadata": {},
   "source": [
    "## *Machine Learning* introduction \n",
    "\n",
    "Nous allons apprendre via un exemple concret les bases du Machine Learning. \n",
    "\n",
    "**Plan du Tp du 28 mars 2019:**\n",
    "\n",
    "- Etape de *Data mining* \n",
    "    - Etape *d'éxploaration* des données\n",
    "        - *textuelle* ou *graphique* des données \n",
    "- Etape de *modélisation*  statisques \n",
    "    - Etape de *vérification* de la perfomance du modèle \n",
    "- Etape de restitution des résultats\n",
    "\n",
    "\n",
    "\n",
    "\n",
    "### Première étape le data mining \n",
    "\n",
    "Il s’agit de télécharger vos données et de les insérer dans R via les nombreuses commandes graphiques ou consoles, que vous apprises dans le cours de Master 1. Il s’agit de rappels, je vous recommande d’écrire un script afin de ne pas perdre vos données et surtout de rendre votre code reproductible et de ne pas perdre vos données.  Puis, il faut contrôler les données que vous avez téléchargées. Pour cela, il faut télécharger les données d’entraînement et les sorties d'apprentissages : \n",
    "\n",
    "Télécharger les  données sur le répertoire github du cours, soit via le terminal avec ces commandes : \n",
    "\n",
    "`git clone \"url_du_dossier_github\" `\n",
    "\n",
    "ou si vous l'avez déjà fait allez dans votre répertoire du premier cours \n",
    "\n",
    "`git fetch -a`\n",
    "\n",
    "`git pull`\n",
    "\n",
    "Il est possible de la faire en mode graphique avec un explortaeur web à tapant l'adresse suivante https://github.com/LaurentPolitis/data_science_intro/tree/master/data"
   ]
  },
  {
   "cell_type": "code",
   "execution_count": null,
   "metadata": {},
   "outputs": [],
   "source": [
    "library(\"ggplot2\") # visualisation\n",
    "library(\"dplyr\") #  manipulation\n",
    "library(\"randomForest\") # classification algorithme\n",
    "\n",
    "\n",
    "# lire les données sous R \n",
    "\n",
    "train <- read.csv(\"~//Documents//R//Cours2019_M2//data//train.csv\", stringsAsFactors = F)\n",
    "train$type <- \"train\"\n",
    "test  <- read.csv(\"~//Documents//R//Cours2019_M2//data//test.csv\", stringsAsFactors = F)\n",
    "train$type <- \"test\"\n",
    "# vérifier les données \n",
    "full  <- bind_rows(train, test) # "
   ]
  },
  {
   "cell_type": "code",
   "execution_count": null,
   "metadata": {},
   "outputs": [],
   "source": [
    "**Question 1** Inspecter  les éléments des data frame *train* et *test* que vous avez téléchargé "
   ]
  },
  {
   "cell_type": "code",
   "execution_count": 6,
   "metadata": {},
   "outputs": [
    {
     "name": "stdout",
     "output_type": "stream",
     "text": [
      "'data.frame':\t1309 obs. of  13 variables:\n",
      " $ PassengerId: int  1 2 3 4 5 6 7 8 9 10 ...\n",
      " $ Survived   : int  0 1 1 1 0 0 0 0 1 1 ...\n",
      " $ Pclass     : int  3 1 3 1 3 3 1 3 3 2 ...\n",
      " $ Name       : chr  \"Braund, Mr. Owen Harris\" \"Cumings, Mrs. John Bradley (Florence Briggs Thayer)\" \"Heikkinen, Miss. Laina\" \"Futrelle, Mrs. Jacques Heath (Lily May Peel)\" ...\n",
      " $ Sex        : chr  \"male\" \"female\" \"female\" \"female\" ...\n",
      " $ Age        : num  22 38 26 35 35 NA 54 2 27 14 ...\n",
      " $ SibSp      : int  1 1 0 1 0 0 0 3 0 1 ...\n",
      " $ Parch      : int  0 0 0 0 0 0 0 1 2 0 ...\n",
      " $ Ticket     : chr  \"A/5 21171\" \"PC 17599\" \"STON/O2. 3101282\" \"113803\" ...\n",
      " $ Fare       : num  7.25 71.28 7.92 53.1 8.05 ...\n",
      " $ Cabin      : chr  \"\" \"C85\" \"\" \"C123\" ...\n",
      " $ Embarked   : chr  \"S\" \"C\" \"S\" \"S\" ...\n",
      " $ type       : chr  \"test\" \"test\" \"test\" \"test\" ...\n"
     ]
    }
   ],
   "source": [
    "str(full)\n"
   ]
  },
  {
   "cell_type": "code",
   "execution_count": 17,
   "metadata": {},
   "outputs": [
    {
     "data": {
      "text/html": [
       "<table>\n",
       "<thead><tr><th scope=col>PassengerId</th><th scope=col>Pclass</th><th scope=col>Name</th><th scope=col>Sex</th><th scope=col>Age</th><th scope=col>SibSp</th><th scope=col>Parch</th><th scope=col>Ticket</th><th scope=col>Fare</th><th scope=col>Cabin</th><th scope=col>Embarked</th></tr></thead>\n",
       "<tbody>\n",
       "\t<tr><td>892                                         </td><td>3                                           </td><td>Kelly, Mr. James                            </td><td>male                                        </td><td>34.5                                        </td><td>0                                           </td><td>0                                           </td><td>330911                                      </td><td> 7.8292                                     </td><td>                                            </td><td>Q                                           </td></tr>\n",
       "\t<tr><td>893                                         </td><td>3                                           </td><td>Wilkes, Mrs. James (Ellen Needs)            </td><td>female                                      </td><td>47.0                                        </td><td>1                                           </td><td>0                                           </td><td>363272                                      </td><td> 7.0000                                     </td><td>                                            </td><td>S                                           </td></tr>\n",
       "\t<tr><td>894                                         </td><td>2                                           </td><td>Myles, Mr. Thomas Francis                   </td><td>male                                        </td><td>62.0                                        </td><td>0                                           </td><td>0                                           </td><td>240276                                      </td><td> 9.6875                                     </td><td>                                            </td><td>Q                                           </td></tr>\n",
       "\t<tr><td>895                                         </td><td>3                                           </td><td>Wirz, Mr. Albert                            </td><td>male                                        </td><td>27.0                                        </td><td>0                                           </td><td>0                                           </td><td>315154                                      </td><td> 8.6625                                     </td><td>                                            </td><td>S                                           </td></tr>\n",
       "\t<tr><td>896                                         </td><td>3                                           </td><td>Hirvonen, Mrs. Alexander (Helga E Lindqvist)</td><td>female                                      </td><td>22.0                                        </td><td>1                                           </td><td>1                                           </td><td>3101298                                     </td><td>12.2875                                     </td><td>                                            </td><td>S                                           </td></tr>\n",
       "\t<tr><td>897                                         </td><td>3                                           </td><td>Svensson, Mr. Johan Cervin                  </td><td>male                                        </td><td>14.0                                        </td><td>0                                           </td><td>0                                           </td><td>7538                                        </td><td> 9.2250                                     </td><td>                                            </td><td>S                                           </td></tr>\n",
       "</tbody>\n",
       "</table>\n"
      ],
      "text/latex": [
       "\\begin{tabular}{r|lllllllllll}\n",
       " PassengerId & Pclass & Name & Sex & Age & SibSp & Parch & Ticket & Fare & Cabin & Embarked\\\\\n",
       "\\hline\n",
       "\t 892                                          & 3                                            & Kelly, Mr. James                             & male                                         & 34.5                                         & 0                                            & 0                                            & 330911                                       &  7.8292                                      &                                              & Q                                           \\\\\n",
       "\t 893                                          & 3                                            & Wilkes, Mrs. James (Ellen Needs)             & female                                       & 47.0                                         & 1                                            & 0                                            & 363272                                       &  7.0000                                      &                                              & S                                           \\\\\n",
       "\t 894                                          & 2                                            & Myles, Mr. Thomas Francis                    & male                                         & 62.0                                         & 0                                            & 0                                            & 240276                                       &  9.6875                                      &                                              & Q                                           \\\\\n",
       "\t 895                                          & 3                                            & Wirz, Mr. Albert                             & male                                         & 27.0                                         & 0                                            & 0                                            & 315154                                       &  8.6625                                      &                                              & S                                           \\\\\n",
       "\t 896                                          & 3                                            & Hirvonen, Mrs. Alexander (Helga E Lindqvist) & female                                       & 22.0                                         & 1                                            & 1                                            & 3101298                                      & 12.2875                                      &                                              & S                                           \\\\\n",
       "\t 897                                          & 3                                            & Svensson, Mr. Johan Cervin                   & male                                         & 14.0                                         & 0                                            & 0                                            & 7538                                         &  9.2250                                      &                                              & S                                           \\\\\n",
       "\\end{tabular}\n"
      ],
      "text/markdown": [
       "\n",
       "PassengerId | Pclass | Name | Sex | Age | SibSp | Parch | Ticket | Fare | Cabin | Embarked | \n",
       "|---|---|---|---|---|---|\n",
       "| 892                                          | 3                                            | Kelly, Mr. James                             | male                                         | 34.5                                         | 0                                            | 0                                            | 330911                                       |  7.8292                                      |                                              | Q                                            | \n",
       "| 893                                          | 3                                            | Wilkes, Mrs. James (Ellen Needs)             | female                                       | 47.0                                         | 1                                            | 0                                            | 363272                                       |  7.0000                                      |                                              | S                                            | \n",
       "| 894                                          | 2                                            | Myles, Mr. Thomas Francis                    | male                                         | 62.0                                         | 0                                            | 0                                            | 240276                                       |  9.6875                                      |                                              | Q                                            | \n",
       "| 895                                          | 3                                            | Wirz, Mr. Albert                             | male                                         | 27.0                                         | 0                                            | 0                                            | 315154                                       |  8.6625                                      |                                              | S                                            | \n",
       "| 896                                          | 3                                            | Hirvonen, Mrs. Alexander (Helga E Lindqvist) | female                                       | 22.0                                         | 1                                            | 1                                            | 3101298                                      | 12.2875                                      |                                              | S                                            | \n",
       "| 897                                          | 3                                            | Svensson, Mr. Johan Cervin                   | male                                         | 14.0                                         | 0                                            | 0                                            | 7538                                         |  9.2250                                      |                                              | S                                            | \n",
       "\n",
       "\n"
      ],
      "text/plain": [
       "  PassengerId Pclass Name                                         Sex    Age \n",
       "1 892         3      Kelly, Mr. James                             male   34.5\n",
       "2 893         3      Wilkes, Mrs. James (Ellen Needs)             female 47.0\n",
       "3 894         2      Myles, Mr. Thomas Francis                    male   62.0\n",
       "4 895         3      Wirz, Mr. Albert                             male   27.0\n",
       "5 896         3      Hirvonen, Mrs. Alexander (Helga E Lindqvist) female 22.0\n",
       "6 897         3      Svensson, Mr. Johan Cervin                   male   14.0\n",
       "  SibSp Parch Ticket  Fare    Cabin Embarked\n",
       "1 0     0     330911   7.8292       Q       \n",
       "2 1     0     363272   7.0000       S       \n",
       "3 0     0     240276   9.6875       Q       \n",
       "4 0     0     315154   8.6625       S       \n",
       "5 1     1     3101298 12.2875       S       \n",
       "6 0     0     7538     9.2250       S       "
      ]
     },
     "metadata": {},
     "output_type": "display_data"
    }
   ],
   "source": [
    "head(test)"
   ]
  },
  {
   "cell_type": "markdown",
   "metadata": {},
   "source": [
    "##### Explorer les données \n",
    "Nous allons découvrir et explorer les données afin de pouvoir créer un modèle de survie. \n",
    "\n",
    "\n"
   ]
  },
  {
   "cell_type": "code",
   "execution_count": null,
   "metadata": {},
   "outputs": [],
   "source": []
  }
 ],
 "metadata": {
  "kernelspec": {
   "display_name": "R",
   "language": "R",
   "name": "ir"
  },
  "language_info": {
   "codemirror_mode": "r",
   "file_extension": ".r",
   "mimetype": "text/x-r-source",
   "name": "R",
   "pygments_lexer": "r",
   "version": "3.5.1"
  }
 },
 "nbformat": 4,
 "nbformat_minor": 2
}
