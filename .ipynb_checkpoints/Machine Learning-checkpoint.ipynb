{
 "cells": [
  {
   "cell_type": "markdown",
   "metadata": {},
   "source": [
    "## *Machine Learning* introduction \n",
    "\n",
    "Nous allons apprendre via un exemple concret les bases du Machine Learning. Pour cela, il faut télécharger les données d’entraînement et les sorties d'apprentissages. \n",
    "\n",
    "**Plan du Tp :**\n",
    "\n",
    "- Compréhension et problématique du sujet \n",
    "- Etape de *Data mining* \n",
    "    - Etape *d'éxploaration* des données\n",
    "        - *textuelle* ou *graphique* des données \n",
    "- Etape de *modélisation*  statisques \n",
    "    - Etape de *vérification* de la perfomance du modèle \n",
    "- Etape de restitution des résultats\n",
    "\n",
    "### Problématique : Titanic \n",
    "\n",
    "Le but est de créer un modèle statistique (machine learning) de chance de survie d'un passager du Titanic en fonction de plusieurs variables explicatives. \n",
    "\n",
    "La première étape est de bien cerner la problématique du sujet à modéliser. Dans notre cas, nous disposons de données d'entraînement ainsi que des données supplémentaires afin de tester notre modèle. Après, il est possible de faire  une recherches bibliographiques afin de créer de nouvelles variables ou de récupérer plus de données. \n",
    "\n",
    "- www.allocine.fr/video/player_gen_cmedia=19263225&cfilm=5818.html\n",
    "-\n",
    "\n",
    "### Première étape le data mining \n",
    "\n",
    "Il s’agit de télécharger vos données et de les insérer dans R via les nombreuses commandes graphiques ou consoles, que vous apprises dans le cours de Master 1. Il s’agit de rappels, je vous recommande d’écrire un script afin de ne pas perdre vos données et surtout de rendre votre code reproductible et de ne pas perdre vos données.  Puis, il faut contrôler les données que vous avez téléchargées. \n",
    "\n",
    "**Question** Télécharger les  données sur le répertoire github du cours, soit via le terminal avec ces commandes : \n",
    "\n",
    "`git clone \"url_du_dossier_github\" `\n",
    "\n",
    "ou si vous l'avez déjà fait allez dans votre répertoire du premier cours \n",
    "\n",
    "`git fetch -a`\n",
    "\n",
    "`git pull`\n",
    "\n",
    "Autrement, via la façon graphique vous pouvez accéder au site de https://github.com/LaurentPolitis/data_science_intro/tree/master/data\n",
    "\n",
    "Les données d'entraînement doit être utilisé pour construire votre modéle de machine learning. Pour le jeux de données d'entraînement, il comprend des variables tels que la réponse au problème (c'est à dire la survie du passager à la catastrophe), le nom du passager, le genre, le numéro de cabine. Le modèle va s'appuyer sur ces variables explicatives. Vous pouvez en créer d'autre.\n",
    "\n"
   ]
  },
  {
   "cell_type": "code",
   "execution_count": 2,
   "metadata": {
    "scrolled": true
   },
   "outputs": [
    {
     "name": "stderr",
     "output_type": "stream",
     "text": [
      "\n",
      "Attaching package: 'dplyr'\n",
      "\n",
      "The following objects are masked from 'package:stats':\n",
      "\n",
      "    filter, lag\n",
      "\n",
      "The following objects are masked from 'package:base':\n",
      "\n",
      "    intersect, setdiff, setequal, union\n",
      "\n",
      "randomForest 4.6-14\n",
      "Type rfNews() to see new features/changes/bug fixes.\n",
      "\n",
      "Attaching package: 'randomForest'\n",
      "\n",
      "The following object is masked from 'package:dplyr':\n",
      "\n",
      "    combine\n",
      "\n",
      "The following object is masked from 'package:ggplot2':\n",
      "\n",
      "    margin\n",
      "\n"
     ]
    }
   ],
   "source": [
    "library(\"ggplot2\") # visualisation\n",
    "library(\"dplyr\") #  manipulation\n",
    "library(\"randomForest\") # classification algorithme\n",
    "# lire les données sous R \n",
    "train <- read.csv(\"~//Documents//R//Cours2019_M2//data//train.csv\", stringsAsFactors = F)\n",
    "#test  <- read.csv(\"~//Documents//R//Cours2019_M2//data//test.csv\", stringsAsFactors = F)\n",
    "#train$type <- \"test\"\n",
    "# vérifier les données \n",
    "#full  <- bind_rows(train, test) # "
   ]
  },
  {
   "cell_type": "markdown",
   "metadata": {},
   "source": [
    "**Question** Explorer le type de la data frame que vous venez de télécharger ? Combien d'observations sont contenues dans cette data frame ? Combien de variables sont présentes dans cette data frame ? "
   ]
  },
  {
   "cell_type": "code",
   "execution_count": 3,
   "metadata": {
    "scrolled": true
   },
   "outputs": [
    {
     "name": "stdout",
     "output_type": "stream",
     "text": [
      "'data.frame':\t891 obs. of  12 variables:\n",
      " $ PassengerId: int  1 2 3 4 5 6 7 8 9 10 ...\n",
      " $ Survived   : int  0 1 1 1 0 0 0 0 1 1 ...\n",
      " $ Pclass     : int  3 1 3 1 3 3 1 3 3 2 ...\n",
      " $ Name       : chr  \"Braund, Mr. Owen Harris\" \"Cumings, Mrs. John Bradley (Florence Briggs Thayer)\" \"Heikkinen, Miss. Laina\" \"Futrelle, Mrs. Jacques Heath (Lily May Peel)\" ...\n",
      " $ Sex        : chr  \"male\" \"female\" \"female\" \"female\" ...\n",
      " $ Age        : num  22 38 26 35 35 NA 54 2 27 14 ...\n",
      " $ SibSp      : int  1 1 0 1 0 0 0 3 0 1 ...\n",
      " $ Parch      : int  0 0 0 0 0 0 0 1 2 0 ...\n",
      " $ Ticket     : chr  \"A/5 21171\" \"PC 17599\" \"STON/O2. 3101282\" \"113803\" ...\n",
      " $ Fare       : num  7.25 71.28 7.92 53.1 8.05 ...\n",
      " $ Cabin      : chr  \"\" \"C85\" \"\" \"C123\" ...\n",
      " $ Embarked   : chr  \"S\" \"C\" \"S\" \"S\" ...\n"
     ]
    }
   ],
   "source": [
    "str(train)"
   ]
  },
  {
   "cell_type": "code",
   "execution_count": 4,
   "metadata": {
    "scrolled": true
   },
   "outputs": [
    {
     "data": {
      "text/html": [
       "<table>\n",
       "<thead><tr><th scope=col>PassengerId</th><th scope=col>Survived</th><th scope=col>Pclass</th><th scope=col>Name</th><th scope=col>Sex</th><th scope=col>Age</th><th scope=col>SibSp</th><th scope=col>Parch</th><th scope=col>Ticket</th><th scope=col>Fare</th><th scope=col>Cabin</th><th scope=col>Embarked</th></tr></thead>\n",
       "<tbody>\n",
       "\t<tr><td>1                                                  </td><td>0                                                  </td><td>3                                                  </td><td>Braund, Mr. Owen Harris                            </td><td>male                                               </td><td>22                                                 </td><td>1                                                  </td><td>0                                                  </td><td>A/5 21171                                          </td><td> 7.2500                                            </td><td>                                                   </td><td>S                                                  </td></tr>\n",
       "\t<tr><td>2                                                  </td><td>1                                                  </td><td>1                                                  </td><td>Cumings, Mrs. John Bradley (Florence Briggs Thayer)</td><td>female                                             </td><td>38                                                 </td><td>1                                                  </td><td>0                                                  </td><td>PC 17599                                           </td><td>71.2833                                            </td><td>C85                                                </td><td>C                                                  </td></tr>\n",
       "\t<tr><td>3                                                  </td><td>1                                                  </td><td>3                                                  </td><td>Heikkinen, Miss. Laina                             </td><td>female                                             </td><td>26                                                 </td><td>0                                                  </td><td>0                                                  </td><td>STON/O2. 3101282                                   </td><td> 7.9250                                            </td><td>                                                   </td><td>S                                                  </td></tr>\n",
       "\t<tr><td>4                                                  </td><td>1                                                  </td><td>1                                                  </td><td>Futrelle, Mrs. Jacques Heath (Lily May Peel)       </td><td>female                                             </td><td>35                                                 </td><td>1                                                  </td><td>0                                                  </td><td>113803                                             </td><td>53.1000                                            </td><td>C123                                               </td><td>S                                                  </td></tr>\n",
       "\t<tr><td>5                                                  </td><td>0                                                  </td><td>3                                                  </td><td>Allen, Mr. William Henry                           </td><td>male                                               </td><td>35                                                 </td><td>0                                                  </td><td>0                                                  </td><td>373450                                             </td><td> 8.0500                                            </td><td>                                                   </td><td>S                                                  </td></tr>\n",
       "\t<tr><td>6                                                  </td><td>0                                                  </td><td>3                                                  </td><td>Moran, Mr. James                                   </td><td>male                                               </td><td>NA                                                 </td><td>0                                                  </td><td>0                                                  </td><td>330877                                             </td><td> 8.4583                                            </td><td>                                                   </td><td>Q                                                  </td></tr>\n",
       "</tbody>\n",
       "</table>\n"
      ],
      "text/latex": [
       "\\begin{tabular}{r|llllllllllll}\n",
       " PassengerId & Survived & Pclass & Name & Sex & Age & SibSp & Parch & Ticket & Fare & Cabin & Embarked\\\\\n",
       "\\hline\n",
       "\t 1                                                   & 0                                                   & 3                                                   & Braund, Mr. Owen Harris                             & male                                                & 22                                                  & 1                                                   & 0                                                   & A/5 21171                                           &  7.2500                                             &                                                     & S                                                  \\\\\n",
       "\t 2                                                   & 1                                                   & 1                                                   & Cumings, Mrs. John Bradley (Florence Briggs Thayer) & female                                              & 38                                                  & 1                                                   & 0                                                   & PC 17599                                            & 71.2833                                             & C85                                                 & C                                                  \\\\\n",
       "\t 3                                                   & 1                                                   & 3                                                   & Heikkinen, Miss. Laina                              & female                                              & 26                                                  & 0                                                   & 0                                                   & STON/O2. 3101282                                    &  7.9250                                             &                                                     & S                                                  \\\\\n",
       "\t 4                                                   & 1                                                   & 1                                                   & Futrelle, Mrs. Jacques Heath (Lily May Peel)        & female                                              & 35                                                  & 1                                                   & 0                                                   & 113803                                              & 53.1000                                             & C123                                                & S                                                  \\\\\n",
       "\t 5                                                   & 0                                                   & 3                                                   & Allen, Mr. William Henry                            & male                                                & 35                                                  & 0                                                   & 0                                                   & 373450                                              &  8.0500                                             &                                                     & S                                                  \\\\\n",
       "\t 6                                                   & 0                                                   & 3                                                   & Moran, Mr. James                                    & male                                                & NA                                                  & 0                                                   & 0                                                   & 330877                                              &  8.4583                                             &                                                     & Q                                                  \\\\\n",
       "\\end{tabular}\n"
      ],
      "text/markdown": [
       "\n",
       "PassengerId | Survived | Pclass | Name | Sex | Age | SibSp | Parch | Ticket | Fare | Cabin | Embarked | \n",
       "|---|---|---|---|---|---|\n",
       "| 1                                                   | 0                                                   | 3                                                   | Braund, Mr. Owen Harris                             | male                                                | 22                                                  | 1                                                   | 0                                                   | A/5 21171                                           |  7.2500                                             |                                                     | S                                                   | \n",
       "| 2                                                   | 1                                                   | 1                                                   | Cumings, Mrs. John Bradley (Florence Briggs Thayer) | female                                              | 38                                                  | 1                                                   | 0                                                   | PC 17599                                            | 71.2833                                             | C85                                                 | C                                                   | \n",
       "| 3                                                   | 1                                                   | 3                                                   | Heikkinen, Miss. Laina                              | female                                              | 26                                                  | 0                                                   | 0                                                   | STON/O2. 3101282                                    |  7.9250                                             |                                                     | S                                                   | \n",
       "| 4                                                   | 1                                                   | 1                                                   | Futrelle, Mrs. Jacques Heath (Lily May Peel)        | female                                              | 35                                                  | 1                                                   | 0                                                   | 113803                                              | 53.1000                                             | C123                                                | S                                                   | \n",
       "| 5                                                   | 0                                                   | 3                                                   | Allen, Mr. William Henry                            | male                                                | 35                                                  | 0                                                   | 0                                                   | 373450                                              |  8.0500                                             |                                                     | S                                                   | \n",
       "| 6                                                   | 0                                                   | 3                                                   | Moran, Mr. James                                    | male                                                | NA                                                  | 0                                                   | 0                                                   | 330877                                              |  8.4583                                             |                                                     | Q                                                   | \n",
       "\n",
       "\n"
      ],
      "text/plain": [
       "  PassengerId Survived Pclass\n",
       "1 1           0        3     \n",
       "2 2           1        1     \n",
       "3 3           1        3     \n",
       "4 4           1        1     \n",
       "5 5           0        3     \n",
       "6 6           0        3     \n",
       "  Name                                                Sex    Age SibSp Parch\n",
       "1 Braund, Mr. Owen Harris                             male   22  1     0    \n",
       "2 Cumings, Mrs. John Bradley (Florence Briggs Thayer) female 38  1     0    \n",
       "3 Heikkinen, Miss. Laina                              female 26  0     0    \n",
       "4 Futrelle, Mrs. Jacques Heath (Lily May Peel)        female 35  1     0    \n",
       "5 Allen, Mr. William Henry                            male   35  0     0    \n",
       "6 Moran, Mr. James                                    male   NA  0     0    \n",
       "  Ticket           Fare    Cabin Embarked\n",
       "1 A/5 21171         7.2500       S       \n",
       "2 PC 17599         71.2833 C85   C       \n",
       "3 STON/O2. 3101282  7.9250       S       \n",
       "4 113803           53.1000 C123  S       \n",
       "5 373450            8.0500       S       \n",
       "6 330877            8.4583       Q       "
      ]
     },
     "metadata": {},
     "output_type": "display_data"
    }
   ],
   "source": [
    "head(train)"
   ]
  },
  {
   "cell_type": "markdown",
   "metadata": {},
   "source": [
    "**Question** Remplisser le tableau ci dessous ? \n",
    "\n",
    "Variable      | Description | Type\n",
    "--------------|-------------|--------------\n",
    "Survived      | ...         |   ...\n",
    "Pclass        | ...         |    ...\n",
    "Name          | ...         |    ...\n",
    "Sex           | ...         |    ...\n",
    "Age           | ...         |    ... \n",
    "SibSp         | ...         |    ...\n",
    "Parch         | ...         |    ...\n",
    "Ticket        | ...         |    ...\n",
    "Fare          | ...         |    ...\n",
    "Cabin         | ...         |    ...\n",
    "Embarked      | ...         |    ..."
   ]
  },
  {
   "cell_type": "raw",
   "metadata": {},
   "source": [
    "Nota Bene: afin de faire un tableau comme au dessus en markdown vous pouvez utiliser la syntaxe ci-dessous  \n",
    "\n",
    "Variable      | Description | Type\n",
    "--------------|-------------|--------------\n",
    "Survived      | ...         |   ...\n",
    "Pclass        | ...         |    ...\n",
    "Name          | ...         |    ...\n",
    "Sex           | ...         |    ...\n",
    "Age           | ...         |    ... \n",
    "SibSp         | ...         |    ...\n",
    "Parch         | ...         |    ...\n",
    "Ticket        | ...         |    ...\n",
    "Fare          | ...         |    ...\n",
    "Cabin         | ...         |    ...\n",
    "Embarked      | ...         |    ..."
   ]
  },
  {
   "cell_type": "markdown",
   "metadata": {},
   "source": [
    "### Explorer les données \n",
    "\n",
    "Nous allons découvrir et explorer les données afin de pouvoir créer un modèle de survie. Pour cela, il va etre necessaire d'avoir des vrariables numériques à la place de cetraines varaible non-numérique comme le genre: \n",
    "- 2 pour homme  \n",
    "- 1 pour femme \n",
    "\n",
    "\n"
   ]
  },
  {
   "cell_type": "markdown",
   "metadata": {},
   "source": [
    "**Question** *créer une matrice de corrélation et créer un graphique à l'aide cette matrice*"
   ]
  },
  {
   "cell_type": "raw",
   "metadata": {},
   "source": [
    "cormat <- round(cor(as.numeric(train),2))"
   ]
  },
  {
   "cell_type": "code",
   "execution_count": 5,
   "metadata": {},
   "outputs": [
    {
     "data": {
      "text/html": [
       "<ol class=list-inline>\n",
       "\t<li>'male'</li>\n",
       "\t<li>'female'</li>\n",
       "\t<li>'female'</li>\n",
       "\t<li>'female'</li>\n",
       "\t<li>'male'</li>\n",
       "\t<li>'male'</li>\n",
       "</ol>\n"
      ],
      "text/latex": [
       "\\begin{enumerate*}\n",
       "\\item 'male'\n",
       "\\item 'female'\n",
       "\\item 'female'\n",
       "\\item 'female'\n",
       "\\item 'male'\n",
       "\\item 'male'\n",
       "\\end{enumerate*}\n"
      ],
      "text/markdown": [
       "1. 'male'\n",
       "2. 'female'\n",
       "3. 'female'\n",
       "4. 'female'\n",
       "5. 'male'\n",
       "6. 'male'\n",
       "\n",
       "\n"
      ],
      "text/plain": [
       "[1] \"male\"   \"female\" \"female\" \"female\" \"male\"   \"male\"  "
      ]
     },
     "metadata": {},
     "output_type": "display_data"
    }
   ],
   "source": [
    "head(train$Sex)\n",
    "\n",
    "train$Sex <- ifelse(train$Sex == \"male\",2,1)\n"
   ]
  },
  {
   "cell_type": "code",
   "execution_count": 6,
   "metadata": {},
   "outputs": [
    {
     "data": {
      "text/html": [
       "<ol class=list-inline>\n",
       "\t<li>2</li>\n",
       "\t<li>1</li>\n",
       "\t<li>1</li>\n",
       "\t<li>1</li>\n",
       "\t<li>2</li>\n",
       "\t<li>2</li>\n",
       "</ol>\n"
      ],
      "text/latex": [
       "\\begin{enumerate*}\n",
       "\\item 2\n",
       "\\item 1\n",
       "\\item 1\n",
       "\\item 1\n",
       "\\item 2\n",
       "\\item 2\n",
       "\\end{enumerate*}\n"
      ],
      "text/markdown": [
       "1. 2\n",
       "2. 1\n",
       "3. 1\n",
       "4. 1\n",
       "5. 2\n",
       "6. 2\n",
       "\n",
       "\n"
      ],
      "text/plain": [
       "[1] 2 1 1 1 2 2"
      ]
     },
     "metadata": {},
     "output_type": "display_data"
    }
   ],
   "source": [
    "head(train$Sex)"
   ]
  },
  {
   "cell_type": "code",
   "execution_count": 7,
   "metadata": {},
   "outputs": [
    {
     "data": {
      "text/html": [
       "<ol class=list-inline>\n",
       "\t<li>'PassengerId'</li>\n",
       "\t<li>'Survived'</li>\n",
       "\t<li>'Pclass'</li>\n",
       "\t<li>'Sex'</li>\n",
       "\t<li>'Age'</li>\n",
       "\t<li>'SibSp'</li>\n",
       "\t<li>'Parch'</li>\n",
       "\t<li>'Fare'</li>\n",
       "</ol>\n"
      ],
      "text/latex": [
       "\\begin{enumerate*}\n",
       "\\item 'PassengerId'\n",
       "\\item 'Survived'\n",
       "\\item 'Pclass'\n",
       "\\item 'Sex'\n",
       "\\item 'Age'\n",
       "\\item 'SibSp'\n",
       "\\item 'Parch'\n",
       "\\item 'Fare'\n",
       "\\end{enumerate*}\n"
      ],
      "text/markdown": [
       "1. 'PassengerId'\n",
       "2. 'Survived'\n",
       "3. 'Pclass'\n",
       "4. 'Sex'\n",
       "5. 'Age'\n",
       "6. 'SibSp'\n",
       "7. 'Parch'\n",
       "8. 'Fare'\n",
       "\n",
       "\n"
      ],
      "text/plain": [
       "[1] \"PassengerId\" \"Survived\"    \"Pclass\"      \"Sex\"         \"Age\"        \n",
       "[6] \"SibSp\"       \"Parch\"       \"Fare\"       "
      ]
     },
     "metadata": {},
     "output_type": "display_data"
    }
   ],
   "source": [
    "train %>% select_if(is.numeric) %>% colnames()"
   ]
  },
  {
   "cell_type": "code",
   "execution_count": 8,
   "metadata": {},
   "outputs": [],
   "source": [
    "train_num = train %>% select_if(is.numeric)"
   ]
  },
  {
   "cell_type": "code",
   "execution_count": 9,
   "metadata": {},
   "outputs": [
    {
     "data": {
      "text/html": [
       "<table>\n",
       "<thead><tr><th></th><th scope=col>PassengerId</th><th scope=col>Survived</th><th scope=col>Pclass</th><th scope=col>Sex</th><th scope=col>Age</th><th scope=col>SibSp</th><th scope=col>Parch</th><th scope=col>Fare</th></tr></thead>\n",
       "<tbody>\n",
       "\t<tr><th scope=row>PassengerId</th><td> 1.000000000</td><td>-0.005006661</td><td>-0.03514399 </td><td> 0.04293888 </td><td> 0.03684720 </td><td>-0.05752683 </td><td>-0.001652012</td><td> 0.01265822 </td></tr>\n",
       "\t<tr><th scope=row>Survived</th><td>-0.005006661</td><td> 1.000000000</td><td>-0.33848104 </td><td>-0.54335138 </td><td>-0.07722109 </td><td>-0.03532250 </td><td> 0.081629407</td><td> 0.25730652 </td></tr>\n",
       "\t<tr><th scope=row>Pclass</th><td>-0.035143994</td><td>-0.338481036</td><td> 1.00000000 </td><td> 0.13190049 </td><td>-0.36922602 </td><td> 0.08308136 </td><td> 0.018442671</td><td>-0.54949962 </td></tr>\n",
       "\t<tr><th scope=row>Sex</th><td> 0.042938880</td><td>-0.543351381</td><td> 0.13190049 </td><td> 1.00000000 </td><td> 0.09325358 </td><td>-0.11463081 </td><td>-0.245488960</td><td>-0.18233283 </td></tr>\n",
       "\t<tr><th scope=row>Age</th><td> 0.036847198</td><td>-0.077221095</td><td>-0.36922602 </td><td> 0.09325358 </td><td> 1.00000000 </td><td>-0.30824676 </td><td>-0.189119263</td><td> 0.09606669 </td></tr>\n",
       "\t<tr><th scope=row>SibSp</th><td>-0.057526834</td><td>-0.035322499</td><td> 0.08308136 </td><td>-0.11463081 </td><td>-0.30824676 </td><td> 1.00000000 </td><td> 0.414837699</td><td> 0.15965104 </td></tr>\n",
       "\t<tr><th scope=row>Parch</th><td>-0.001652012</td><td> 0.081629407</td><td> 0.01844267 </td><td>-0.24548896 </td><td>-0.18911926 </td><td> 0.41483770 </td><td> 1.000000000</td><td> 0.21622494 </td></tr>\n",
       "\t<tr><th scope=row>Fare</th><td> 0.012658219</td><td> 0.257306522</td><td>-0.54949962 </td><td>-0.18233283 </td><td> 0.09606669 </td><td> 0.15965104 </td><td> 0.216224945</td><td> 1.00000000 </td></tr>\n",
       "</tbody>\n",
       "</table>\n"
      ],
      "text/latex": [
       "\\begin{tabular}{r|llllllll}\n",
       "  & PassengerId & Survived & Pclass & Sex & Age & SibSp & Parch & Fare\\\\\n",
       "\\hline\n",
       "\tPassengerId &  1.000000000 & -0.005006661 & -0.03514399  &  0.04293888  &  0.03684720  & -0.05752683  & -0.001652012 &  0.01265822 \\\\\n",
       "\tSurvived & -0.005006661 &  1.000000000 & -0.33848104  & -0.54335138  & -0.07722109  & -0.03532250  &  0.081629407 &  0.25730652 \\\\\n",
       "\tPclass & -0.035143994 & -0.338481036 &  1.00000000  &  0.13190049  & -0.36922602  &  0.08308136  &  0.018442671 & -0.54949962 \\\\\n",
       "\tSex &  0.042938880 & -0.543351381 &  0.13190049  &  1.00000000  &  0.09325358  & -0.11463081  & -0.245488960 & -0.18233283 \\\\\n",
       "\tAge &  0.036847198 & -0.077221095 & -0.36922602  &  0.09325358  &  1.00000000  & -0.30824676  & -0.189119263 &  0.09606669 \\\\\n",
       "\tSibSp & -0.057526834 & -0.035322499 &  0.08308136  & -0.11463081  & -0.30824676  &  1.00000000  &  0.414837699 &  0.15965104 \\\\\n",
       "\tParch & -0.001652012 &  0.081629407 &  0.01844267  & -0.24548896  & -0.18911926  &  0.41483770  &  1.000000000 &  0.21622494 \\\\\n",
       "\tFare &  0.012658219 &  0.257306522 & -0.54949962  & -0.18233283  &  0.09606669  &  0.15965104  &  0.216224945 &  1.00000000 \\\\\n",
       "\\end{tabular}\n"
      ],
      "text/markdown": [
       "\n",
       "| <!--/--> | PassengerId | Survived | Pclass | Sex | Age | SibSp | Parch | Fare | \n",
       "|---|---|---|---|---|---|---|---|\n",
       "| PassengerId |  1.000000000 | -0.005006661 | -0.03514399  |  0.04293888  |  0.03684720  | -0.05752683  | -0.001652012 |  0.01265822  | \n",
       "| Survived | -0.005006661 |  1.000000000 | -0.33848104  | -0.54335138  | -0.07722109  | -0.03532250  |  0.081629407 |  0.25730652  | \n",
       "| Pclass | -0.035143994 | -0.338481036 |  1.00000000  |  0.13190049  | -0.36922602  |  0.08308136  |  0.018442671 | -0.54949962  | \n",
       "| Sex |  0.042938880 | -0.543351381 |  0.13190049  |  1.00000000  |  0.09325358  | -0.11463081  | -0.245488960 | -0.18233283  | \n",
       "| Age |  0.036847198 | -0.077221095 | -0.36922602  |  0.09325358  |  1.00000000  | -0.30824676  | -0.189119263 |  0.09606669  | \n",
       "| SibSp | -0.057526834 | -0.035322499 |  0.08308136  | -0.11463081  | -0.30824676  |  1.00000000  |  0.414837699 |  0.15965104  | \n",
       "| Parch | -0.001652012 |  0.081629407 |  0.01844267  | -0.24548896  | -0.18911926  |  0.41483770  |  1.000000000 |  0.21622494  | \n",
       "| Fare |  0.012658219 |  0.257306522 | -0.54949962  | -0.18233283  |  0.09606669  |  0.15965104  |  0.216224945 |  1.00000000  | \n",
       "\n",
       "\n"
      ],
      "text/plain": [
       "            PassengerId  Survived     Pclass      Sex         Age        \n",
       "PassengerId  1.000000000 -0.005006661 -0.03514399  0.04293888  0.03684720\n",
       "Survived    -0.005006661  1.000000000 -0.33848104 -0.54335138 -0.07722109\n",
       "Pclass      -0.035143994 -0.338481036  1.00000000  0.13190049 -0.36922602\n",
       "Sex          0.042938880 -0.543351381  0.13190049  1.00000000  0.09325358\n",
       "Age          0.036847198 -0.077221095 -0.36922602  0.09325358  1.00000000\n",
       "SibSp       -0.057526834 -0.035322499  0.08308136 -0.11463081 -0.30824676\n",
       "Parch       -0.001652012  0.081629407  0.01844267 -0.24548896 -0.18911926\n",
       "Fare         0.012658219  0.257306522 -0.54949962 -0.18233283  0.09606669\n",
       "            SibSp       Parch        Fare       \n",
       "PassengerId -0.05752683 -0.001652012  0.01265822\n",
       "Survived    -0.03532250  0.081629407  0.25730652\n",
       "Pclass       0.08308136  0.018442671 -0.54949962\n",
       "Sex         -0.11463081 -0.245488960 -0.18233283\n",
       "Age         -0.30824676 -0.189119263  0.09606669\n",
       "SibSp        1.00000000  0.414837699  0.15965104\n",
       "Parch        0.41483770  1.000000000  0.21622494\n",
       "Fare         0.15965104  0.216224945  1.00000000"
      ]
     },
     "metadata": {},
     "output_type": "display_data"
    }
   ],
   "source": [
    "cormat = cor(as.matrix(train_num),use = \"pairwise.complete.obs\")\n",
    "cormat"
   ]
  },
  {
   "cell_type": "code",
   "execution_count": 10,
   "metadata": {},
   "outputs": [
    {
     "data": {
      "text/html": [
       "<table>\n",
       "<thead><tr><th scope=col>Var1</th><th scope=col>Var2</th><th scope=col>value</th></tr></thead>\n",
       "<tbody>\n",
       "\t<tr><td>PassengerId </td><td>Survived    </td><td>-0.005006661</td></tr>\n",
       "\t<tr><td>Survived    </td><td>Survived    </td><td> 1.000000000</td></tr>\n",
       "\t<tr><td>Pclass      </td><td>Survived    </td><td>-0.338481036</td></tr>\n",
       "\t<tr><td>Sex         </td><td>Survived    </td><td>-0.543351381</td></tr>\n",
       "\t<tr><td>Age         </td><td>Survived    </td><td>-0.077221095</td></tr>\n",
       "\t<tr><td>SibSp       </td><td>Survived    </td><td>-0.035322499</td></tr>\n",
       "</tbody>\n",
       "</table>\n"
      ],
      "text/latex": [
       "\\begin{tabular}{r|lll}\n",
       " Var1 & Var2 & value\\\\\n",
       "\\hline\n",
       "\t PassengerId  & Survived     & -0.005006661\\\\\n",
       "\t Survived     & Survived     &  1.000000000\\\\\n",
       "\t Pclass       & Survived     & -0.338481036\\\\\n",
       "\t Sex          & Survived     & -0.543351381\\\\\n",
       "\t Age          & Survived     & -0.077221095\\\\\n",
       "\t SibSp        & Survived     & -0.035322499\\\\\n",
       "\\end{tabular}\n"
      ],
      "text/markdown": [
       "\n",
       "Var1 | Var2 | value | \n",
       "|---|---|---|---|---|---|\n",
       "| PassengerId  | Survived     | -0.005006661 | \n",
       "| Survived     | Survived     |  1.000000000 | \n",
       "| Pclass       | Survived     | -0.338481036 | \n",
       "| Sex          | Survived     | -0.543351381 | \n",
       "| Age          | Survived     | -0.077221095 | \n",
       "| SibSp        | Survived     | -0.035322499 | \n",
       "\n",
       "\n"
      ],
      "text/plain": [
       "  Var1        Var2     value       \n",
       "1 PassengerId Survived -0.005006661\n",
       "2 Survived    Survived  1.000000000\n",
       "3 Pclass      Survived -0.338481036\n",
       "4 Sex         Survived -0.543351381\n",
       "5 Age         Survived -0.077221095\n",
       "6 SibSp       Survived -0.035322499"
      ]
     },
     "metadata": {},
     "output_type": "display_data"
    }
   ],
   "source": [
    "library(reshape2)\n",
    "melted_cormat <- melt(cormat[,-1])\n",
    "head(melted_cormat)\n",
    "melted_cormat$value = abs(melted_cormat$value)"
   ]
  },
  {
   "cell_type": "code",
   "execution_count": 11,
   "metadata": {},
   "outputs": [
    {
     "data": {},
     "metadata": {},
     "output_type": "display_data"
    },
    {
     "data": {
      "image/png": "[encoded data removed]",
      "text/plain": [
       "plot without title"
      ]
     },
     "metadata": {},
     "output_type": "display_data"
    }
   ],
   "source": [
    "library(ggplot2)\n",
    "\n",
    "ggplot(data = melted_cormat, aes(x=Var1, y=Var2, fill=value)) + \n",
    "  geom_tile()"
   ]
  },
  {
   "cell_type": "code",
   "execution_count": 12,
   "metadata": {},
   "outputs": [],
   "source": [
    "# Obtenir le triangle inférieur\n",
    "  get_lower_tri<-function(cormat){\n",
    "    cormat[upper.tri(cormat)] <- NA\n",
    "    return(cormat)\n",
    "  }\n",
    "  # Obtenir le triangle supérieur\n",
    "  get_upper_tri <- function(cormat){\n",
    "    cormat[lower.tri(cormat)]<- NA\n",
    "    return(cormat)\n",
    "  }"
   ]
  },
  {
   "cell_type": "code",
   "execution_count": 13,
   "metadata": {},
   "outputs": [
    {
     "data": {
      "text/html": [
       "<table>\n",
       "<thead><tr><th></th><th scope=col>PassengerId</th><th scope=col>Survived</th><th scope=col>Pclass</th><th scope=col>Sex</th><th scope=col>Age</th><th scope=col>SibSp</th><th scope=col>Parch</th><th scope=col>Fare</th></tr></thead>\n",
       "<tbody>\n",
       "\t<tr><th scope=row>PassengerId</th><td> 1          </td><td>-0.005006661</td><td>-0.03514399 </td><td> 0.04293888 </td><td> 0.03684720 </td><td>-0.05752683 </td><td>-0.001652012</td><td> 0.01265822 </td></tr>\n",
       "\t<tr><th scope=row>Survived</th><td>NA          </td><td> 1.000000000</td><td>-0.33848104 </td><td>-0.54335138 </td><td>-0.07722109 </td><td>-0.03532250 </td><td> 0.081629407</td><td> 0.25730652 </td></tr>\n",
       "\t<tr><th scope=row>Pclass</th><td>NA          </td><td>          NA</td><td> 1.00000000 </td><td> 0.13190049 </td><td>-0.36922602 </td><td> 0.08308136 </td><td> 0.018442671</td><td>-0.54949962 </td></tr>\n",
       "\t<tr><th scope=row>Sex</th><td>NA          </td><td>          NA</td><td>         NA </td><td> 1.00000000 </td><td> 0.09325358 </td><td>-0.11463081 </td><td>-0.245488960</td><td>-0.18233283 </td></tr>\n",
       "\t<tr><th scope=row>Age</th><td>NA          </td><td>          NA</td><td>         NA </td><td>         NA </td><td> 1.00000000 </td><td>-0.30824676 </td><td>-0.189119263</td><td> 0.09606669 </td></tr>\n",
       "\t<tr><th scope=row>SibSp</th><td>NA          </td><td>          NA</td><td>         NA </td><td>         NA </td><td>         NA </td><td> 1.00000000 </td><td> 0.414837699</td><td> 0.15965104 </td></tr>\n",
       "\t<tr><th scope=row>Parch</th><td>NA          </td><td>          NA</td><td>         NA </td><td>         NA </td><td>         NA </td><td>         NA </td><td> 1.000000000</td><td> 0.21622494 </td></tr>\n",
       "\t<tr><th scope=row>Fare</th><td>NA          </td><td>          NA</td><td>         NA </td><td>         NA </td><td>         NA </td><td>         NA </td><td>          NA</td><td> 1.00000000 </td></tr>\n",
       "</tbody>\n",
       "</table>\n"
      ],
      "text/latex": [
       "\\begin{tabular}{r|llllllll}\n",
       "  & PassengerId & Survived & Pclass & Sex & Age & SibSp & Parch & Fare\\\\\n",
       "\\hline\n",
       "\tPassengerId &  1           & -0.005006661 & -0.03514399  &  0.04293888  &  0.03684720  & -0.05752683  & -0.001652012 &  0.01265822 \\\\\n",
       "\tSurvived & NA           &  1.000000000 & -0.33848104  & -0.54335138  & -0.07722109  & -0.03532250  &  0.081629407 &  0.25730652 \\\\\n",
       "\tPclass & NA           &           NA &  1.00000000  &  0.13190049  & -0.36922602  &  0.08308136  &  0.018442671 & -0.54949962 \\\\\n",
       "\tSex & NA           &           NA &          NA  &  1.00000000  &  0.09325358  & -0.11463081  & -0.245488960 & -0.18233283 \\\\\n",
       "\tAge & NA           &           NA &          NA  &          NA  &  1.00000000  & -0.30824676  & -0.189119263 &  0.09606669 \\\\\n",
       "\tSibSp & NA           &           NA &          NA  &          NA  &          NA  &  1.00000000  &  0.414837699 &  0.15965104 \\\\\n",
       "\tParch & NA           &           NA &          NA  &          NA  &          NA  &          NA  &  1.000000000 &  0.21622494 \\\\\n",
       "\tFare & NA           &           NA &          NA  &          NA  &          NA  &          NA  &           NA &  1.00000000 \\\\\n",
       "\\end{tabular}\n"
      ],
      "text/markdown": [
       "\n",
       "| <!--/--> | PassengerId | Survived | Pclass | Sex | Age | SibSp | Parch | Fare | \n",
       "|---|---|---|---|---|---|---|---|\n",
       "| PassengerId |  1           | -0.005006661 | -0.03514399  |  0.04293888  |  0.03684720  | -0.05752683  | -0.001652012 |  0.01265822  | \n",
       "| Survived | NA           |  1.000000000 | -0.33848104  | -0.54335138  | -0.07722109  | -0.03532250  |  0.081629407 |  0.25730652  | \n",
       "| Pclass | NA           |           NA |  1.00000000  |  0.13190049  | -0.36922602  |  0.08308136  |  0.018442671 | -0.54949962  | \n",
       "| Sex | NA           |           NA |          NA  |  1.00000000  |  0.09325358  | -0.11463081  | -0.245488960 | -0.18233283  | \n",
       "| Age | NA           |           NA |          NA  |          NA  |  1.00000000  | -0.30824676  | -0.189119263 |  0.09606669  | \n",
       "| SibSp | NA           |           NA |          NA  |          NA  |          NA  |  1.00000000  |  0.414837699 |  0.15965104  | \n",
       "| Parch | NA           |           NA |          NA  |          NA  |          NA  |          NA  |  1.000000000 |  0.21622494  | \n",
       "| Fare | NA           |           NA |          NA  |          NA  |          NA  |          NA  |           NA |  1.00000000  | \n",
       "\n",
       "\n"
      ],
      "text/plain": [
       "            PassengerId Survived     Pclass      Sex         Age        \n",
       "PassengerId  1          -0.005006661 -0.03514399  0.04293888  0.03684720\n",
       "Survived    NA           1.000000000 -0.33848104 -0.54335138 -0.07722109\n",
       "Pclass      NA                    NA  1.00000000  0.13190049 -0.36922602\n",
       "Sex         NA                    NA          NA  1.00000000  0.09325358\n",
       "Age         NA                    NA          NA          NA  1.00000000\n",
       "SibSp       NA                    NA          NA          NA          NA\n",
       "Parch       NA                    NA          NA          NA          NA\n",
       "Fare        NA                    NA          NA          NA          NA\n",
       "            SibSp       Parch        Fare       \n",
       "PassengerId -0.05752683 -0.001652012  0.01265822\n",
       "Survived    -0.03532250  0.081629407  0.25730652\n",
       "Pclass       0.08308136  0.018442671 -0.54949962\n",
       "Sex         -0.11463081 -0.245488960 -0.18233283\n",
       "Age         -0.30824676 -0.189119263  0.09606669\n",
       "SibSp        1.00000000  0.414837699  0.15965104\n",
       "Parch                NA  1.000000000  0.21622494\n",
       "Fare                 NA           NA  1.00000000"
      ]
     },
     "metadata": {},
     "output_type": "display_data"
    }
   ],
   "source": [
    "upper_tri <- get_upper_tri(cormat)\n",
    "upper_tri"
   ]
  },
  {
   "cell_type": "code",
   "execution_count": 14,
   "metadata": {},
   "outputs": [
    {
     "data": {},
     "metadata": {},
     "output_type": "display_data"
    },
    {
     "data": {
      "image/png": "[encoded data removed]",
      "text/plain": [
       "plot without title"
      ]
     },
     "metadata": {},
     "output_type": "display_data"
    }
   ],
   "source": [
    "# Fondre la matrice de corrélation\n",
    "library(reshape2)\n",
    "melted_cormat <- melt(upper_tri, na.rm = TRUE)\n",
    "# Heatmap\n",
    "library(ggplot2)\n",
    "ggplot(data = melted_cormat, aes(Var2, Var1, fill = value))+\n",
    " geom_tile(color = \"white\")+\n",
    " scale_fill_gradient2(low = \"blue\", high = \"red\", mid = \"white\", \n",
    "   midpoint = 0, limit = c(-1,1), space = \"Lab\",\n",
    "   name=\"Pearson\\nCorrelation\") +\n",
    "  theme_minimal()+ \n",
    " theme(axis.text.x = element_text(angle = 45, vjust = 1, \n",
    "    size = 12, hjust = 1))+\n",
    " coord_fixed()"
   ]
  },
  {
   "cell_type": "code",
   "execution_count": 15,
   "metadata": {},
   "outputs": [],
   "source": [
    "reorder_cormat <- function(cormat){\n",
    "# Utiliser la corrélation entre les variables\n",
    "  # comme mésure de distance\n",
    "dd <- as.dist((1-cormat)/2)\n",
    "hc <- hclust(dd)\n",
    "cormat <-cormat[hc$order, hc$order]\n",
    "}"
   ]
  },
  {
   "cell_type": "code",
   "execution_count": 16,
   "metadata": {},
   "outputs": [
    {
     "data": {
      "image/png": "[encoded data removed]",
      "text/plain": [
       "plot without title"
      ]
     },
     "metadata": {},
     "output_type": "display_data"
    }
   ],
   "source": [
    "# Reordonner la matrice de corrélation\n",
    "cormat <- reorder_cormat(cormat)\n",
    "upper_tri <- get_upper_tri(cormat)\n",
    "# Fondre la matrice de corrélation\n",
    "melted_cormat <- melt(upper_tri, na.rm = TRUE)\n",
    "# Créer un ggheatmap\n",
    "ggheatmap <- ggplot(melted_cormat, aes(Var2, Var1, fill = value))+\n",
    " geom_tile(color = \"white\")+\n",
    " scale_fill_gradient2(low = \"blue\", high = \"red\", mid = \"white\", \n",
    "   midpoint = 0, limit = c(-1,1), space = \"Lab\",\n",
    "   name=\"Pearson\\nCorrelation\") +\n",
    "  theme_minimal()+ # minimal theme\n",
    " theme(axis.text.x = element_text(angle = 45, vjust = 1, \n",
    "    size = 12, hjust = 1))+\n",
    " coord_fixed()\n",
    "# Afficher heatmap\n",
    "print(ggheatmap)"
   ]
  },
  {
   "cell_type": "code",
   "execution_count": 17,
   "metadata": {},
   "outputs": [
    {
     "data": {},
     "metadata": {},
     "output_type": "display_data"
    },
    {
     "data": {
      "image/png": "[encoded data removed]",
      "text/plain": [
       "plot without title"
      ]
     },
     "metadata": {},
     "output_type": "display_data"
    }
   ],
   "source": [
    "ggheatmap + \n",
    "geom_text(aes(Var2, Var1, label = round(value,2)), color = \"black\", size = 4) +\n",
    "theme(\n",
    "  axis.title.x = element_blank(),\n",
    "  axis.title.y = element_blank(),\n",
    "  panel.grid.major = element_blank(),\n",
    "  panel.border = element_blank(),\n",
    "  panel.background = element_blank(),\n",
    "  axis.ticks = element_blank(),\n",
    "  legend.justification = c(1, 0),\n",
    "  legend.position = c(0.6, 0.7),\n",
    "  legend.direction = \"horizontal\")+\n",
    "  guides(fill = guide_colorbar(barwidth = 7, barheight = 1,\n",
    "                title.position = \"top\", title.hjust = 0.5))"
   ]
  },
  {
   "cell_type": "markdown",
   "metadata": {},
   "source": [
    "**Question** *comment interprétez  vous ce grahe ?* "
   ]
  },
  {
   "cell_type": "markdown",
   "metadata": {},
   "source": [
    "### Exerise 1: Investiguer les autres variables \n",
    "\n",
    "Faire un graphe sur le taux de survie des personnes du titanic par la catégorie des personnes qui ont embarqué sur le titanic : "
   ]
  },
  {
   "cell_type": "code",
   "execution_count": 18,
   "metadata": {},
   "outputs": [
    {
     "name": "stderr",
     "output_type": "stream",
     "text": [
      "Using Embarked as id variables\n"
     ]
    },
    {
     "data": {},
     "metadata": {},
     "output_type": "display_data"
    },
    {
     "data": {
      "image/png": "[encoded data removed]",
      "text/plain": [
       "plot without title"
      ]
     },
     "metadata": {},
     "output_type": "display_data"
    }
   ],
   "source": [
    "train.m = melt(train[,c(\"Survived\",\"Embarked\")])\n",
    "ggplot(train.m)+ geom_density( aes(x = value,fill=Embarked),alpha=0.5)+ facet_wrap(~Embarked)"
   ]
  },
  {
   "cell_type": "markdown",
   "metadata": {},
   "source": [
    "\n",
    "   - C = Cherbourg\n",
    "   - Q = Queenstown\n",
    "   - S = Southampton\n"
   ]
  },
  {
   "cell_type": "markdown",
   "metadata": {},
   "source": [
    "**Question** *créer un graphe de la survie ou non des passagers en fonction de la variable fare en s'aidant de l'exemple au dessus* "
   ]
  },
  {
   "cell_type": "markdown",
   "metadata": {},
   "source": [
    "**Question** *créer un graphe de la survie ou non des passagers en fonction du genre* "
   ]
  },
  {
   "cell_type": "markdown",
   "metadata": {},
   "source": [
    "**Question** *créer un graphe de la survie ou non des passagers en fonction de Pclass* "
   ]
  },
  {
   "cell_type": "markdown",
   "metadata": {},
   "source": [
    "**Question** *créer un graphe de la survie ou non des passagers en fonction de SibSp* "
   ]
  },
  {
   "cell_type": "markdown",
   "metadata": {},
   "source": [
    "**Question** *créer un graphe de la survie ou non des passagers en fonction de parch* "
   ]
  },
  {
   "cell_type": "markdown",
   "metadata": {},
   "source": [
    "### Exercice 2 : créer de nouvelles variables"
   ]
  },
  {
   "cell_type": "markdown",
   "metadata": {},
   "source": [
    "Deux variables permettent de créer une nouvelle variable afin d'ajouter et de créer une variable explicative \"la taille de la famille\" "
   ]
  },
  {
   "cell_type": "code",
   "execution_count": 19,
   "metadata": {},
   "outputs": [],
   "source": [
    "### ajout d'une variable supplémentaire au problème \n",
    "\n",
    "train$Family_Size <- train$Parch +train$SibSp +1"
   ]
  },
  {
   "cell_type": "code",
   "execution_count": 20,
   "metadata": {},
   "outputs": [
    {
     "data": {},
     "metadata": {},
     "output_type": "display_data"
    },
    {
     "data": {
      "image/png": "[encoded data removed]",
      "text/plain": [
       "plot without title"
      ]
     },
     "metadata": {},
     "output_type": "display_data"
    }
   ],
   "source": [
    "ggplot(train)+ geom_bar(aes(x=Family_Size,fill=as.character(Survived)),position=\"dodge\")"
   ]
  },
  {
   "cell_type": "markdown",
   "metadata": {},
   "source": [
    "**Question** *en l'état on peut remarquer que la taille famille peut être classer en groupe plus pertinant comme variable explicative. Trouver les.*\n",
    "\n",
    "Nous avons d'autres variables explicatives où nous pouvons extraire de l'information. \n",
    "\n",
    "**Question** *Essayer de créer d'autres variables explicatives pour le modèle de prédiction de survie d'un passager*\n"
   ]
  },
  {
   "cell_type": "markdown",
   "metadata": {},
   "source": [
    "### Prédiction \n",
    "\n",
    "Nous avons enfin explorer les données de problèmes afin de créer un modéle statistique de survie des passages du Titanic. \n"
   ]
  },
  {
   "cell_type": "markdown",
   "metadata": {},
   "source": [
    "Partager les données en train un jeux de données de test et un jeux de données d'entrainement. \n"
   ]
  },
  {
   "cell_type": "code",
   "execution_count": 45,
   "metadata": {},
   "outputs": [
    {
     "data": {
      "image/png": "[encoded data removed]",
      "text/plain": [
       "Plot with title \"rf_model\""
      ]
     },
     "metadata": {},
     "output_type": "display_data"
    }
   ],
   "source": [
    "train_mat <- train [1:799,]\n",
    "test <- train[800:891,]\n",
    "\n",
    "train_mat = train_mat[complete.cases(train_mat),] %>% filter(Embarked %in%c(\"C\",\"S\",\"Q\"))\n",
    "\n",
    "\n",
    "# construire le modèle \n",
    "\n",
    "rf_model <- randomForest(factor(Survived) ~  Sex + Age + Pclass+Fare,\n",
    "                                            data = train_mat)\n",
    "\n",
    "# Show model error\n",
    "plot(rf_model, ylim=c(0,0.36))\n",
    "legend('topright', colnames(rf_model$err.rate), col=1:3, fill=1:3)\n"
   ]
  },
  {
   "cell_type": "markdown",
   "metadata": {},
   "source": [
    "La courbe noire informe de l'erreur total qui est  à environ 20%. La rouge et la verte correspond respectivement à l'erreur de prédiction de la mort d'un passager et l'erreur de survie d'un passager à bord du titanic.  "
   ]
  },
  {
   "cell_type": "markdown",
   "metadata": {},
   "source": [
    "### Importance des variables "
   ]
  },
  {
   "cell_type": "code",
   "execution_count": 46,
   "metadata": {},
   "outputs": [
    {
     "data": {},
     "metadata": {},
     "output_type": "display_data"
    },
    {
     "data": {
      "image/png": "[encoded data removed]",
      "text/plain": [
       "plot without title"
      ]
     },
     "metadata": {},
     "output_type": "display_data"
    }
   ],
   "source": [
    "# Get importance\n",
    "importance    <- importance(rf_model)\n",
    "varImportance <- data.frame(Variables = row.names(importance), \n",
    "                            Importance = round(importance[ ,'MeanDecreaseGini'],2))\n",
    "\n",
    "# Create a rank variable based on importance\n",
    "rankImportance <- varImportance %>%\n",
    "  mutate(Rank = paste0('#',dense_rank(desc(Importance))))\n",
    "\n",
    "# Use ggplot2 to visualize the relative importance of variables\n",
    "ggplot(rankImportance, aes(x = reorder(Variables, Importance), \n",
    "    y = Importance, fill = Importance)) +\n",
    "  geom_bar(stat='identity') + \n",
    "  geom_text(aes(x = Variables, y = 0.5, label = Rank),\n",
    "    hjust=0, vjust=0.55, size = 4, colour = 'red') +\n",
    "  labs(x = 'Variables') +\n",
    "  coord_flip() "
   ]
  },
  {
   "cell_type": "markdown",
   "metadata": {},
   "source": [
    "### Backtesting: Leonardo di Caprio died or not ? \n",
    "\n",
    "L'étape de backtesting est la plus importante. Elle permet de montrer la performance de votre modèle de ML. Nous avons séparé le jeux de données que nous utilisons en un jeu de données de tests et un jeu de données d'entraînement. "
   ]
  },
  {
   "cell_type": "code",
   "execution_count": 47,
   "metadata": {},
   "outputs": [],
   "source": [
    "test <- test[complete.cases(test),]\n",
    "prediction <- predict(rf_model, test)\n",
    "test$prediction <- prediction "
   ]
  },
  {
   "cell_type": "code",
   "execution_count": 48,
   "metadata": {},
   "outputs": [
    {
     "name": "stderr",
     "output_type": "stream",
     "text": [
      "Warning message:\n",
      "\"attributes are not identical across measure variables; they will be dropped\""
     ]
    },
    {
     "data": {
      "text/html": [
       "<table>\n",
       "<thead><tr><th scope=col>PassengerId</th><th scope=col>variable</th><th scope=col>value</th></tr></thead>\n",
       "<tbody>\n",
       "\t<tr><td>800     </td><td>Survived</td><td>0       </td></tr>\n",
       "\t<tr><td>801     </td><td>Survived</td><td>0       </td></tr>\n",
       "\t<tr><td>802     </td><td>Survived</td><td>1       </td></tr>\n",
       "\t<tr><td>803     </td><td>Survived</td><td>1       </td></tr>\n",
       "\t<tr><td>804     </td><td>Survived</td><td>1       </td></tr>\n",
       "\t<tr><td>805     </td><td>Survived</td><td>1       </td></tr>\n",
       "</tbody>\n",
       "</table>\n"
      ],
      "text/latex": [
       "\\begin{tabular}{r|lll}\n",
       " PassengerId & variable & value\\\\\n",
       "\\hline\n",
       "\t 800      & Survived & 0       \\\\\n",
       "\t 801      & Survived & 0       \\\\\n",
       "\t 802      & Survived & 1       \\\\\n",
       "\t 803      & Survived & 1       \\\\\n",
       "\t 804      & Survived & 1       \\\\\n",
       "\t 805      & Survived & 1       \\\\\n",
       "\\end{tabular}\n"
      ],
      "text/markdown": [
       "\n",
       "PassengerId | variable | value | \n",
       "|---|---|---|---|---|---|\n",
       "| 800      | Survived | 0        | \n",
       "| 801      | Survived | 0        | \n",
       "| 802      | Survived | 1        | \n",
       "| 803      | Survived | 1        | \n",
       "| 804      | Survived | 1        | \n",
       "| 805      | Survived | 1        | \n",
       "\n",
       "\n"
      ],
      "text/plain": [
       "  PassengerId variable value\n",
       "1 800         Survived 0    \n",
       "2 801         Survived 0    \n",
       "3 802         Survived 1    \n",
       "4 803         Survived 1    \n",
       "5 804         Survived 1    \n",
       "6 805         Survived 1    "
      ]
     },
     "metadata": {},
     "output_type": "display_data"
    },
    {
     "data": {},
     "metadata": {},
     "output_type": "display_data"
    },
    {
     "data": {
      "image/png": "[encoded data removed]",
      "text/plain": [
       "plot without title"
      ]
     },
     "metadata": {},
     "output_type": "display_data"
    }
   ],
   "source": [
    "test.m = reshape2::melt(test %>% select(PassengerId,Survived,prediction),id.vars = \"PassengerId\")\n",
    "head(test.m)\n",
    "ggplot(test.m)+geom_bar(aes(x = value,fill=variable),position=\"dodge\")"
   ]
  },
  {
   "cell_type": "code",
   "execution_count": 49,
   "metadata": {},
   "outputs": [
    {
     "data": {
      "text/html": [
       "78"
      ],
      "text/latex": [
       "78"
      ],
      "text/markdown": [
       "78"
      ],
      "text/plain": [
       "[1] 78"
      ]
     },
     "metadata": {},
     "output_type": "display_data"
    }
   ],
   "source": [
    "nrow(test)"
   ]
  },
  {
   "cell_type": "markdown",
   "metadata": {},
   "source": [
    "**Question** Simuler si les acteurs de titanic survivent ou pas ? "
   ]
  },
  {
   "cell_type": "code",
   "execution_count": 56,
   "metadata": {},
   "outputs": [
    {
     "data": {
      "text/html": [
       "<strong>800:</strong> 1\n",
       "<details>\n",
       "\t<summary style=display:list-item;cursor:pointer>\n",
       "\t\t<strong>Levels</strong>:\n",
       "\t</summary>\n",
       "\t<ol class=list-inline>\n",
       "\t\t<li>'0'</li>\n",
       "\t\t<li>'1'</li>\n",
       "\t</ol>\n",
       "</details>"
      ],
      "text/latex": [
       "\\textbf{800:} 1\n",
       "\\emph{Levels}: \\begin{enumerate*}\n",
       "\\item '0'\n",
       "\\item '1'\n",
       "\\end{enumerate*}\n"
      ],
      "text/markdown": [
       "**800:** 1\n",
       "**Levels**: 1. '0'\n",
       "2. '1'\n",
       "\n",
       "\n"
      ],
      "text/plain": [
       "800 \n",
       "  1 \n",
       "Levels: 0 1"
      ]
     },
     "metadata": {},
     "output_type": "display_data"
    },
    {
     "data": {
      "text/html": [
       "<strong>800:</strong> 0\n",
       "<details>\n",
       "\t<summary style=display:list-item;cursor:pointer>\n",
       "\t\t<strong>Levels</strong>:\n",
       "\t</summary>\n",
       "\t<ol class=list-inline>\n",
       "\t\t<li>'0'</li>\n",
       "\t\t<li>'1'</li>\n",
       "\t</ol>\n",
       "</details>"
      ],
      "text/latex": [
       "\\textbf{800:} 0\n",
       "\\emph{Levels}: \\begin{enumerate*}\n",
       "\\item '0'\n",
       "\\item '1'\n",
       "\\end{enumerate*}\n"
      ],
      "text/markdown": [
       "**800:** 0\n",
       "**Levels**: 1. '0'\n",
       "2. '1'\n",
       "\n",
       "\n"
      ],
      "text/plain": [
       "800 \n",
       "  0 \n",
       "Levels: 0 1"
      ]
     },
     "metadata": {},
     "output_type": "display_data"
    }
   ],
   "source": [
    "test_leo = test[1,]\n",
    "test_leo$Survived = 0\n",
    "test_leo$Pclass = 3\n",
    "test_leo$Name = \"Leo\"\n",
    "test_leo$Sex = 2\n",
    "test_leo$Age =20\n",
    "test_leo$Fare =100\n",
    "\n",
    "test_kate = test[1,]\n",
    "\n",
    "test_kate$Survived = 1\n",
    "test_kate$Pclass = 1\n",
    "test_kate$Name = \"Kate\"\n",
    "test_kate$Sex = 1\n",
    "test_kate$Age =20\n",
    "test_kate$Fare =7500\n",
    "\n",
    "\n",
    "# kate \n",
    " predict(rf_model, test_kate)\n",
    "# leo\n",
    " predict(rf_model, test_leo)\n"
   ]
  },
  {
   "cell_type": "code",
   "execution_count": null,
   "metadata": {},
   "outputs": [],
   "source": []
  },
  {
   "cell_type": "code",
   "execution_count": null,
   "metadata": {},
   "outputs": [],
   "source": []
  },
  {
   "cell_type": "code",
   "execution_count": null,
   "metadata": {},
   "outputs": [],
   "source": []
  }
 ],
 "metadata": {
  "kernelspec": {
   "display_name": "R",
   "language": "R",
   "name": "ir"
  },
  "language_info": {
   "codemirror_mode": "r",
   "file_extension": ".r",
   "mimetype": "text/x-r-source",
   "name": "R",
   "pygments_lexer": "r",
   "version": "3.5.1"
  }
 },
 "nbformat": 4,
 "nbformat_minor": 2
}
