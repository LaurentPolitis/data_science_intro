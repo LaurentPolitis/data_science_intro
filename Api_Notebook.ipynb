{
 "cells": [
  {
   "cell_type": "markdown",
   "metadata": {},
   "source": [
    "## API\n",
    "\n",
    "(Application programming interface)\n",
    "\n",
    "En informatique, une **interface de programmation applicative** (souvent désignée par le terme **API** pour application programming interface) est un ensemble normalisé de classes, de méthodes ou de fonctions qui sert de façade par laquelle **un logiciel *offre des services* à d'autres logiciels**. Elle est offerte par une bibliothèque logicielle ou un service web, le plus souvent accompagnée d'une description qui spécifie comment des programmes consommateurs peuvent se servir des fonctionnalités du programme fournisseur. \n",
    "\n",
    "Dans l'industrie contemporaine du logiciel, les applications informatiques se servent de nombreuses interfaces de programmation, la programmation se fait en réutilisant des briques de fonctionnalités fournies par des logiciels tiers. Cette construction par assemblage nécessite pour **le programmeur de connaître la manière d’interagir avec les autres logiciels**, qui dépend de leur interface de programmation. Le programmeur n'a pas besoin de connaître les détails de la logique interne du logiciel tiers, et celle-ci n'est généralement pas documentée par le fournisseur. \n",
    "\n",
    "Des **logiciels tels que les systèmes d'exploitation, les systèmes de gestion de base de données**, les langages de programmation, ou les serveurs d'applications comportent une interface de programmation. \n"
   ]
  },
  {
   "cell_type": "markdown",
   "metadata": {},
   "source": [
    "## Exercice : ISS \n",
    "\n",
    "Problématique : \n",
    "\n",
    "***\"The International Space Station is moving at close to 28,000 km/h so its location changes really fast! Where is it right now?\"***\n",
    "\n",
    "Nous allons chercher les données spatiales de la station ISS :\n",
    "- **Première étape:** Chercher un json indiquant la position de la station \n",
    "- **Seconde étape:** convertir se JSON en data frame \n",
    "- **Troisième étape:** créer une carte interactive avec leaflet permettant de voir la position de la station \n",
    "\n",
    "\n",
    "#### 1er étape \n",
    "\n",
    " Rechercher l'api  qui permet de récupérer la position de la station \n",
    " \n",
    "#### 2 eme étape \n",
    "\n",
    " Une fois l'API trouvée vous allez télécharger via R et le package htrr le fichier *JSON*. \n",
    " \n",
    " Un fichier JSON est souvent utilisé pour envoyer le résultat d'une requête que nous avons envoyé à l'API.\n",
    " \n",
    "**JavaScript Object Notation (JSON)** est un format de données textuelles dérivé de la notation des objets du langage JavaScript. Il permet de représenter de l’information structurée comme le permet XML par exemple. Créé par Douglas Crockford entre 2002 et 2005, il est décrit par la RFC 7159 de l’IETF. \n",
    "Un document JSON a pour fonction de représenter de l'information accompagnée d'étiquettes permettant d'en interpréter les divers éléments, sans aucune restriction sur le nombre de celles-ci. \n",
    "Un document JSON ne comprend que deux types d'éléments structurels : \n",
    "- des ensembles de paires « nom » (alias « clé ») / « valeur » ;\n",
    "- des listes ordonnées de valeurs.\n",
    "\n",
    "\n",
    "Une fois le JSON téléchargé, nous allons transformer le fichier json en data frame afin de l'exploiter \n",
    "\n",
    "#### 3 eme étape \n",
    "\n",
    "Une data frame est un objet facilement utlisable par R. Il va nous permettre de tracer la position exacte de la station. Pour stocker les résultats de la requête de la base nous allons enregistrer cette data frame sous  un format csv. \n",
    "\n",
    "Après, le package leaflet va nous permettre de faire un graphe interactif sur la position de la station *ISS*.  \n",
    "\n",
    "Enfin, ecrivez une  boucle *for* afin  pouvoir faire plusieurs requêtes du même type. \n",
    "\n",
    "\n"
   ]
  },
  {
   "cell_type": "markdown",
   "metadata": {},
   "source": [
    "https://fr.wikipedia.org/wiki/Station_spatiale_internationale#/media/File:ISS-56_International_Space_Station_fly-around_(05).jpg"
   ]
  },
  {
   "cell_type": "code",
   "execution_count": null,
   "metadata": {},
   "outputs": [],
   "source": [
    " library(httr) ### télécharger le contenu d'une API\n",
    "\n",
    "json = httr::GET(\"http://api.open-notify.org/iss-now.json\",format=\"txt\")\n",
    "\n",
    "\n"
   ]
  },
  {
   "cell_type": "code",
   "execution_count": null,
   "metadata": {},
   "outputs": [],
   "source": [
    "json"
   ]
  },
  {
   "cell_type": "code",
   "execution_count": null,
   "metadata": {},
   "outputs": [],
   "source": [
    "list_json <- content(a)\n",
    "print(list_json)"
   ]
  },
  {
   "cell_type": "code",
   "execution_count": null,
   "metadata": {},
   "outputs": [],
   "source": [
    "as.data.frame(list_json$iss_position)"
   ]
  },
  {
   "cell_type": "code",
   "execution_count": null,
   "metadata": {},
   "outputs": [],
   "source": [
    "position = as.data.frame(list_json$iss_position)\n",
    "\n",
    "library(lubridate)"
   ]
  },
  {
   "cell_type": "code",
   "execution_count": null,
   "metadata": {},
   "outputs": [],
   "source": [
    "# for the first time write.csv(position,\"position.csv\")\n",
    "time = lubridate::now()\n",
    "time\n",
    "position$time = time \n",
    "#write.csv(position,\"position.csv\")\n",
    "read.csv(\"position.csv\")\n",
    "\n",
    "for (i in 1:10){\n",
    "    \n",
    "    Sys.sleep(100)\n",
    "    \n",
    "    json = httr::GET(\"http://api.open-notify.org/iss-now.json\",format=\"txt\")\n",
    "    read.csv(\"position.csv\")\n",
    "    print( lubridate::now())\n",
    "    list_json <- content(a)\n",
    "    position_new  <- as.data.frame(list_json$iss_position)\n",
    "    position_new$time <- lubridate::now()\n",
    "    position <- rbind(position,position_new)\n",
    "    write.csv(position,\"position.csv\")\n",
    "\n",
    "}\n",
    "\n",
    "\n"
   ]
  },
  {
   "cell_type": "code",
   "execution_count": null,
   "metadata": {},
   "outputs": [],
   "source": [
    "position \n"
   ]
  },
  {
   "cell_type": "code",
   "execution_count": null,
   "metadata": {},
   "outputs": [],
   "source": [
    "library(leaflet)"
   ]
  },
  {
   "cell_type": "code",
   "execution_count": null,
   "metadata": {},
   "outputs": [],
   "source": [
    "map = leaflet() %>% addTiles() %>% leaflet::addMarkers(lat = as.numeric(position$latitude),\n",
    "                                                 lng = as.numeric(position$longitude),\n",
    "                                                 popup=position$time)\n"
   ]
  },
  {
   "cell_type": "code",
   "execution_count": null,
   "metadata": {},
   "outputs": [],
   "source": []
  },
  {
   "cell_type": "code",
   "execution_count": null,
   "metadata": {},
   "outputs": [],
   "source": []
  }
 ],
 "metadata": {
  "kernelspec": {
   "display_name": "R",
   "language": "R",
   "name": "ir"
  },
  "language_info": {
   "codemirror_mode": "r",
   "file_extension": ".r",
   "mimetype": "text/x-r-source",
   "name": "R",
   "pygments_lexer": "r",
   "version": "3.5.1"
  }
 },
 "nbformat": 4,
 "nbformat_minor": 2
}
