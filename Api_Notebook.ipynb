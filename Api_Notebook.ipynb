{
 "cells": [
  {
   "cell_type": "markdown",
   "metadata": {},
   "source": [
    "## API\n",
    "\n",
    "(Application programming interface)\n",
    "\n",
    "En informatique, une **interface de programmation applicative** (souvent désignée par le terme **API** pour application programming interface) est un ensemble normalisé de classes, de méthodes ou de fonctions qui sert de façade par laquelle **un logiciel *offre des services* à d'autres logiciels**. Elle est offerte par une bibliothèque logicielle ou un service web, le plus souvent accompagnée d'une description qui spécifie comment des programmes consommateurs peuvent se servir des fonctionnalités du programme fournisseur. \n",
    "\n",
    "Dans l'industrie contemporaine du logiciel, les applications informatiques se servent de nombreuses interfaces de programmation, la programmation se fait en réutilisant des briques de fonctionnalités fournies par des logiciels tiers. Cette construction par assemblage nécessite pour **le programmeur de connaître la manière d’interagir avec les autres logiciels**, qui dépend de leur interface de programmation. Le programmeur n'a pas besoin de connaître les détails de la logique interne du logiciel tiers, et celle-ci n'est généralement pas documentée par le fournisseur. \n",
    "\n",
    "Des **logiciels tels que les systèmes d'exploitation, les systèmes de gestion de base de données**, les langages de programmation, ou les serveurs d'applications comportent une interface de programmation. \n"
   ]
  },
  {
   "cell_type": "markdown",
   "metadata": {},
   "source": [
    "### Exemple d'une API via l'ISS \n",
    "\n",
    "\"The International Space Station is moving at close to 28,000 km/h so its location changes really fast! Where is it right now?\"\n",
    "\n",
    "Nous allons chercher les données spatiales de la station ISS :\n",
    "- **Première étape:** Chercher un json indiquant la position de la station \n",
    "- **Seconde étape:** convertir se JSON en data frame \n",
    "- **Troisième étape:** créer une carte interactive avec leaflet permettant de voir la position de la station \n",
    "\n",
    "\n",
    "#### 1er étape \n",
    "\n",
    " Rechercher l'api  qui permet de récupérer la position de la station \n",
    " \n",
    "#### 2 eme étape \n",
    "\n",
    " Une fois l'API trouvée vous allez télécharger via R et le package htrr le fichier *JSON*. \n",
    " \n",
    " Un fichier JSON est souvent utilisé pour envoyer le résultat d'une requête que nous avons envoyé à l'API.\n",
    " \n",
    "**JavaScript Object Notation (JSON)** est un format de données textuelles dérivé de la notation des objets du langage JavaScript. Il permet de représenter de l’information structurée comme le permet XML par exemple. Créé par Douglas Crockford entre 2002 et 2005, il est décrit par la RFC 7159 de l’IETF. \n",
    "Un document JSON a pour fonction de représenter de l'information accompagnée d'étiquettes permettant d'en interpréter les divers éléments, sans aucune restriction sur le nombre de celles-ci. \n",
    "Un document JSON ne comprend que deux types d'éléments structurels : \n",
    "- des ensembles de paires « nom » (alias « clé ») / « valeur » ;\n",
    "- des listes ordonnées de valeurs.\n",
    "\n",
    "\n",
    "Une fois le JSON téléchargé, nous allons transformer le fichier json en data frame afin de l'exploiter \n",
    "\n",
    "#### 3 eme étape \n",
    "\n",
    "Une data frame est un objet facilement utlisable par R. Il va nous permettre de tracer la position exacte de la station. Pour stocker les résultats de la requête de la base nous allons enregistrer cette data frame sous  un format csv. \n",
    "\n",
    "Après, le package leaflet va nous permettre de faire un graphe interactif sur la position de la station *ISS*.  \n",
    "\n",
    "Enfin, ecrivez une  boucle *for* afin  pouvoir faire plusieurs requêtes du même type. \n",
    "\n",
    "\n"
   ]
  },
  {
   "cell_type": "markdown",
   "metadata": {},
   "source": [
    "https://fr.wikipedia.org/wiki/Station_spatiale_internationale#/media/File:ISS-56_International_Space_Station_fly-around_(05).jpg"
   ]
  },
  {
   "cell_type": "code",
   "execution_count": 39,
   "metadata": {},
   "outputs": [],
   "source": [
    " library(httr) ### télécharger le contenu d'une API\n",
    "\n",
    "json = httr::GET(\"http://api.open-notify.org/iss-now.json\",format=\"txt\")\n",
    "\n",
    "\n"
   ]
  },
  {
   "cell_type": "code",
   "execution_count": 40,
   "metadata": {},
   "outputs": [
    {
     "data": {
      "text/plain": [
       "Response [http://api.open-notify.org/iss-now.json]\n",
       "  Date: 2019-03-01 11:51\n",
       "  Status: 200\n",
       "  Content-Type: application/json\n",
       "  Size: 112 B\n"
      ]
     },
     "metadata": {},
     "output_type": "display_data"
    }
   ],
   "source": [
    "json"
   ]
  },
  {
   "cell_type": "code",
   "execution_count": 41,
   "metadata": {},
   "outputs": [
    {
     "name": "stdout",
     "output_type": "stream",
     "text": [
      "$message\n",
      "[1] \"success\"\n",
      "\n",
      "$timestamp\n",
      "[1] 1551385836\n",
      "\n",
      "$iss_position\n",
      "$iss_position$latitude\n",
      "[1] \"-4.8494\"\n",
      "\n",
      "$iss_position$longitude\n",
      "[1] \"-102.3043\"\n",
      "\n",
      "\n"
     ]
    }
   ],
   "source": [
    "list_json <- content(a)\n",
    "print(list_json)"
   ]
  },
  {
   "cell_type": "code",
   "execution_count": 42,
   "metadata": {},
   "outputs": [
    {
     "data": {
      "text/html": [
       "<table>\n",
       "<thead><tr><th scope=col>latitude</th><th scope=col>longitude</th></tr></thead>\n",
       "<tbody>\n",
       "\t<tr><td>-4.8494  </td><td>-102.3043</td></tr>\n",
       "</tbody>\n",
       "</table>\n"
      ],
      "text/latex": [
       "\\begin{tabular}{r|ll}\n",
       " latitude & longitude\\\\\n",
       "\\hline\n",
       "\t -4.8494   & -102.3043\\\\\n",
       "\\end{tabular}\n"
      ],
      "text/markdown": [
       "\n",
       "latitude | longitude | \n",
       "|---|\n",
       "| -4.8494   | -102.3043 | \n",
       "\n",
       "\n"
      ],
      "text/plain": [
       "  latitude longitude\n",
       "1 -4.8494  -102.3043"
      ]
     },
     "metadata": {},
     "output_type": "display_data"
    }
   ],
   "source": [
    "as.data.frame(list_json$iss_position)"
   ]
  },
  {
   "cell_type": "code",
   "execution_count": 43,
   "metadata": {},
   "outputs": [
    {
     "name": "stderr",
     "output_type": "stream",
     "text": [
      "\n",
      "Attaching package: 'lubridate'\n",
      "\n",
      "The following object is masked from 'package:base':\n",
      "\n",
      "    date\n",
      "\n"
     ]
    }
   ],
   "source": [
    "position = as.data.frame(list_json$iss_position)\n",
    "\n",
    "library(lubridate)"
   ]
  },
  {
   "cell_type": "code",
   "execution_count": 44,
   "metadata": {},
   "outputs": [
    {
     "data": {
      "text/plain": [
       "[1] \"2019-03-01 12:51:56 CET\""
      ]
     },
     "metadata": {},
     "output_type": "display_data"
    },
    {
     "data": {
      "text/html": [
       "<table>\n",
       "<thead><tr><th scope=col>X</th><th scope=col>latitude</th><th scope=col>longitude</th><th scope=col>time</th></tr></thead>\n",
       "<tbody>\n",
       "\t<tr><td>1                  </td><td>-4.8494            </td><td>-102.3043          </td><td>2019-03-01 12:51:56</td></tr>\n",
       "</tbody>\n",
       "</table>\n"
      ],
      "text/latex": [
       "\\begin{tabular}{r|llll}\n",
       " X & latitude & longitude & time\\\\\n",
       "\\hline\n",
       "\t 1                   & -4.8494             & -102.3043           & 2019-03-01 12:51:56\\\\\n",
       "\\end{tabular}\n"
      ],
      "text/markdown": [
       "\n",
       "X | latitude | longitude | time | \n",
       "|---|\n",
       "| 1                   | -4.8494             | -102.3043           | 2019-03-01 12:51:56 | \n",
       "\n",
       "\n"
      ],
      "text/plain": [
       "  X latitude longitude time               \n",
       "1 1 -4.8494  -102.3043 2019-03-01 12:51:56"
      ]
     },
     "metadata": {},
     "output_type": "display_data"
    },
    {
     "name": "stdout",
     "output_type": "stream",
     "text": [
      "[1] \"2019-03-01 12:52:06 CET\"\n",
      "[1] \"2019-03-01 12:52:17 CET\"\n",
      "[1] \"2019-03-01 12:52:27 CET\"\n",
      "[1] \"2019-03-01 12:52:38 CET\"\n",
      "[1] \"2019-03-01 12:52:48 CET\"\n",
      "[1] \"2019-03-01 12:52:59 CET\"\n",
      "[1] \"2019-03-01 12:53:09 CET\"\n",
      "[1] \"2019-03-01 12:53:21 CET\"\n",
      "[1] \"2019-03-01 12:53:32 CET\"\n",
      "[1] \"2019-03-01 12:53:43 CET\"\n"
     ]
    }
   ],
   "source": [
    "# for the first time write.csv(position,\"position.csv\")\n",
    "time = lubridate::now()\n",
    "time\n",
    "position$time = time \n",
    "#write.csv(position,\"position.csv\")\n",
    "read.csv(\"position.csv\")\n",
    "\n",
    "for (i in 1:100){\n",
    "    \n",
    "    Sys.sleep(10)\n",
    "    \n",
    "    json = httr::GET(\"http://api.open-notify.org/iss-now.json\",format=\"txt\")\n",
    "    position = read.csv(\"position.csv\")\n",
    "    print( lubridate::now())\n",
    "    list_json <- content(a)\n",
    "    position_new  <- as.data.frame(list_json$iss_position)\n",
    "    position_new$time <- lubridate::now()\n",
    "    position <- rbind(position,position_new)\n",
    "    write.csv(position,\"position.csv\")\n",
    "\n",
    "}\n",
    "\n",
    "\n"
   ]
  },
  {
   "cell_type": "code",
   "execution_count": 45,
   "metadata": {},
   "outputs": [
    {
     "data": {
      "text/html": [
       "<table>\n",
       "<thead><tr><th scope=col>latitude</th><th scope=col>longitude</th><th scope=col>time</th></tr></thead>\n",
       "<tbody>\n",
       "\t<tr><td>-4.8494            </td><td>-102.3043          </td><td>2019-03-01 12:51:56</td></tr>\n",
       "\t<tr><td>-4.8494            </td><td>-102.3043          </td><td>2019-03-01 12:52:06</td></tr>\n",
       "\t<tr><td>-4.8494            </td><td>-102.3043          </td><td>2019-03-01 12:52:17</td></tr>\n",
       "\t<tr><td>-4.8494            </td><td>-102.3043          </td><td>2019-03-01 12:52:27</td></tr>\n",
       "\t<tr><td>-4.8494            </td><td>-102.3043          </td><td>2019-03-01 12:52:38</td></tr>\n",
       "\t<tr><td>-4.8494            </td><td>-102.3043          </td><td>2019-03-01 12:52:48</td></tr>\n",
       "\t<tr><td>-4.8494            </td><td>-102.3043          </td><td>2019-03-01 12:52:59</td></tr>\n",
       "\t<tr><td>-4.8494            </td><td>-102.3043          </td><td>2019-03-01 12:53:09</td></tr>\n",
       "\t<tr><td>-4.8494            </td><td>-102.3043          </td><td>2019-03-01 12:53:21</td></tr>\n",
       "\t<tr><td>-4.8494            </td><td>-102.3043          </td><td>2019-03-01 12:53:32</td></tr>\n",
       "\t<tr><td>-4.8494            </td><td>-102.3043          </td><td>2019-03-01 12:53:43</td></tr>\n",
       "</tbody>\n",
       "</table>\n"
      ],
      "text/latex": [
       "\\begin{tabular}{r|lll}\n",
       " latitude & longitude & time\\\\\n",
       "\\hline\n",
       "\t -4.8494             & -102.3043           & 2019-03-01 12:51:56\\\\\n",
       "\t -4.8494             & -102.3043           & 2019-03-01 12:52:06\\\\\n",
       "\t -4.8494             & -102.3043           & 2019-03-01 12:52:17\\\\\n",
       "\t -4.8494             & -102.3043           & 2019-03-01 12:52:27\\\\\n",
       "\t -4.8494             & -102.3043           & 2019-03-01 12:52:38\\\\\n",
       "\t -4.8494             & -102.3043           & 2019-03-01 12:52:48\\\\\n",
       "\t -4.8494             & -102.3043           & 2019-03-01 12:52:59\\\\\n",
       "\t -4.8494             & -102.3043           & 2019-03-01 12:53:09\\\\\n",
       "\t -4.8494             & -102.3043           & 2019-03-01 12:53:21\\\\\n",
       "\t -4.8494             & -102.3043           & 2019-03-01 12:53:32\\\\\n",
       "\t -4.8494             & -102.3043           & 2019-03-01 12:53:43\\\\\n",
       "\\end{tabular}\n"
      ],
      "text/markdown": [
       "\n",
       "latitude | longitude | time | \n",
       "|---|---|---|---|---|---|---|---|---|---|---|\n",
       "| -4.8494             | -102.3043           | 2019-03-01 12:51:56 | \n",
       "| -4.8494             | -102.3043           | 2019-03-01 12:52:06 | \n",
       "| -4.8494             | -102.3043           | 2019-03-01 12:52:17 | \n",
       "| -4.8494             | -102.3043           | 2019-03-01 12:52:27 | \n",
       "| -4.8494             | -102.3043           | 2019-03-01 12:52:38 | \n",
       "| -4.8494             | -102.3043           | 2019-03-01 12:52:48 | \n",
       "| -4.8494             | -102.3043           | 2019-03-01 12:52:59 | \n",
       "| -4.8494             | -102.3043           | 2019-03-01 12:53:09 | \n",
       "| -4.8494             | -102.3043           | 2019-03-01 12:53:21 | \n",
       "| -4.8494             | -102.3043           | 2019-03-01 12:53:32 | \n",
       "| -4.8494             | -102.3043           | 2019-03-01 12:53:43 | \n",
       "\n",
       "\n"
      ],
      "text/plain": [
       "   latitude longitude time               \n",
       "1  -4.8494  -102.3043 2019-03-01 12:51:56\n",
       "2  -4.8494  -102.3043 2019-03-01 12:52:06\n",
       "3  -4.8494  -102.3043 2019-03-01 12:52:17\n",
       "4  -4.8494  -102.3043 2019-03-01 12:52:27\n",
       "5  -4.8494  -102.3043 2019-03-01 12:52:38\n",
       "6  -4.8494  -102.3043 2019-03-01 12:52:48\n",
       "7  -4.8494  -102.3043 2019-03-01 12:52:59\n",
       "8  -4.8494  -102.3043 2019-03-01 12:53:09\n",
       "9  -4.8494  -102.3043 2019-03-01 12:53:21\n",
       "10 -4.8494  -102.3043 2019-03-01 12:53:32\n",
       "11 -4.8494  -102.3043 2019-03-01 12:53:43"
      ]
     },
     "metadata": {},
     "output_type": "display_data"
    }
   ],
   "source": [
    "position \n"
   ]
  },
  {
   "cell_type": "code",
   "execution_count": 46,
   "metadata": {},
   "outputs": [],
   "source": [
    "library(leaflet)"
   ]
  },
  {
   "cell_type": "code",
   "execution_count": 47,
   "metadata": {},
   "outputs": [],
   "source": [
    "map = leaflet() %>% addTiles() %>% leaflet::addMarkers(lat = as.numeric(position$latitude),\n",
    "                                                 lng = as.numeric(position$longitude),\n",
    "                                                 popup=position$time)\n"
   ]
  },
  {
   "cell_type": "code",
   "execution_count": null,
   "metadata": {},
   "outputs": [],
   "source": []
  },
  {
   "cell_type": "code",
   "execution_count": null,
   "metadata": {},
   "outputs": [],
   "source": []
  }
 ],
 "metadata": {
  "kernelspec": {
   "display_name": "R",
   "language": "R",
   "name": "ir"
  },
  "language_info": {
   "codemirror_mode": "r",
   "file_extension": ".r",
   "mimetype": "text/x-r-source",
   "name": "R",
   "pygments_lexer": "r",
   "version": "3.5.1"
  }
 },
 "nbformat": 4,
 "nbformat_minor": 2
}
